{
 "cells": [
  {
   "cell_type": "code",
   "execution_count": 2,
   "metadata": {
    "collapsed": true
   },
   "outputs": [],
   "source": [
    "import nltk\n",
    "import matplotlib.pyplot as plt\n",
    "import random\n",
    "import numpy as np\n",
    "import pandas as pd"
   ]
  },
  {
   "cell_type": "code",
   "execution_count": 3,
   "outputs": [],
   "source": [
    "train = pd.read_csv(\"train_E6oV3lV.csv\")\n",
    "test = pd. read_csv(\"test_tweets_anuFYb8.csv\")"
   ],
   "metadata": {
    "collapsed": false
   }
  },
  {
   "cell_type": "code",
   "execution_count": 4,
   "outputs": [
    {
     "data": {
      "text/plain": "id        int64\nlabel     int64\ntweet    object\ndtype: object"
     },
     "execution_count": 4,
     "metadata": {},
     "output_type": "execute_result"
    }
   ],
   "source": [
    "train.dtypes"
   ],
   "metadata": {
    "collapsed": false
   }
  },
  {
   "cell_type": "code",
   "execution_count": 5,
   "outputs": [
    {
     "name": "stdout",
     "output_type": "stream",
     "text": [
      "Training data shape (31962, 3)\n",
      "Testing data shape (17197, 2)\n"
     ]
    }
   ],
   "source": [
    "print(f'Training data shape {train.shape}')\n",
    "print(f'Testing data shape {test.shape}')"
   ],
   "metadata": {
    "collapsed": false
   }
  },
  {
   "cell_type": "markdown",
   "source": [
    "Labels are missing in testing data hence, we will move forward with only training data. We will train the model by splitting the training data into train and test sets."
   ],
   "metadata": {
    "collapsed": false
   }
  },
  {
   "cell_type": "markdown",
   "source": [
    "# Checking Positive and Negative Tweets"
   ],
   "metadata": {
    "collapsed": false
   }
  },
  {
   "cell_type": "code",
   "execution_count": 6,
   "outputs": [
    {
     "name": "stdout",
     "output_type": "stream",
     "text": [
      "Train positive shape (29720, 3)\n",
      "Train negative shape (2242, 3)\n"
     ]
    }
   ],
   "source": [
    "train_positive = train[train.label==0]\n",
    "train_negative = train[train['label']==1]\n",
    "\n",
    "print(f'Train positive shape {train_positive.shape}')\n",
    "print(f'Train negative shape {train_negative.shape}')"
   ],
   "metadata": {
    "collapsed": false
   }
  },
  {
   "cell_type": "code",
   "execution_count": 7,
   "outputs": [
    {
     "data": {
      "text/plain": "<Figure size 500x500 with 1 Axes>",
      "image/png": "[encoded data removed]"
     },
     "metadata": {},
     "output_type": "display_data"
    }
   ],
   "source": [
    "fig = plt.figure(figsize=(5,5))\n",
    "labels = ['Positve', 'Negative']\n",
    "# print(type(labels))\n",
    "sizes = [train_positive.shape[0], train_negative.shape[0]]\n",
    "plt.pie(sizes,labels=labels, autopct = '%1.1f%%', shadow=True, startangle=90)\n",
    "plt.axis('equal')\n",
    "plt.show()"
   ],
   "metadata": {
    "collapsed": false
   }
  },
  {
   "cell_type": "markdown",
   "source": [
    "Hence, the data is highly imbalanced and we need to perform under/over sampling.\n"
   ],
   "metadata": {
    "collapsed": false
   }
  },
  {
   "cell_type": "code",
   "execution_count": 8,
   "outputs": [
    {
     "name": "stdout",
     "output_type": "stream",
     "text": [
      "id       0\n",
      "label    0\n",
      "tweet    0\n",
      "dtype: int64\n"
     ]
    }
   ],
   "source": [
    "# Checking null values\n",
    "print(train.isnull().sum())"
   ],
   "metadata": {
    "collapsed": false
   }
  },
  {
   "cell_type": "code",
   "execution_count": 9,
   "outputs": [
    {
     "name": "stdout",
     "output_type": "stream",
     "text": [
      "['@user @user  wait is becoming more and more difficult!  #ishqbaaz']\n",
      "['@user @user @user only a racist would segregate people like you do. ']\n"
     ]
    }
   ],
   "source": [
    "# printing a random tweet\n",
    "print(list(train_positive.sample().tweet))\n",
    "print(list(train_negative.sample().tweet))"
   ],
   "metadata": {
    "collapsed": false
   }
  },
  {
   "cell_type": "markdown",
   "source": [
    "# Pre-processing"
   ],
   "metadata": {
    "collapsed": false
   }
  },
  {
   "cell_type": "markdown",
   "source": [
    "The data needs to be cleaned by removing urls emoticons or any random characters which doesnt make sense.\n",
    "Data preprocessing is one of the critical steps in any machine learning project. It includes cleaning and formatting the data before feeding into a machine learning algorithm. For NLP, the preprocessing steps are comprised of the following tasks:\n",
    "\n",
    "* Tokenizing the string\n",
    "* Lowercasing\n",
    "* Removing stop words and punctuation\n",
    "* Stemming\n"
   ],
   "metadata": {
    "collapsed": false
   }
  },
  {
   "cell_type": "code",
   "execution_count": 10,
   "outputs": [
    {
     "name": "stderr",
     "output_type": "stream",
     "text": [
      "[nltk_data] Downloading package stopwords to\n",
      "[nltk_data]     /Users/a91946/nltk_data...\n",
      "[nltk_data]   Package stopwords is already up-to-date!\n"
     ]
    },
    {
     "data": {
      "text/plain": "True"
     },
     "execution_count": 10,
     "metadata": {},
     "output_type": "execute_result"
    }
   ],
   "source": [
    "nltk.download('stopwords')"
   ],
   "metadata": {
    "collapsed": false
   }
  },
  {
   "cell_type": "markdown",
   "source": [
    "Selecting a random tweet and performing cleaning (example)"
   ],
   "metadata": {
    "collapsed": false
   }
  },
  {
   "cell_type": "code",
   "execution_count": 11,
   "outputs": [
    {
     "name": "stdout",
     "output_type": "stream",
     "text": [
      " â #nzd/usd: targets the 100 week sma at 0.7190   #blog #silver #gold #forex\n"
     ]
    }
   ],
   "source": [
    "random.seed(300)\n",
    "rand_val = np.random.randint(0,2242)\n",
    "tweet= train.loc[rand_val].tweet\n",
    "\n",
    "# tweet= train[['tweet']].iloc[rand_val]\n",
    "print(tweet)"
   ],
   "metadata": {
    "collapsed": false
   }
  },
  {
   "cell_type": "code",
   "execution_count": 12,
   "outputs": [],
   "source": [
    "import re\n",
    "import string\n",
    "\n",
    "from nltk.corpus import stopwords\n",
    "from nltk.stem import PorterStemmer\n",
    "from nltk.tokenize import TweetTokenizer"
   ],
   "metadata": {
    "collapsed": false
   }
  },
  {
   "cell_type": "markdown",
   "source": [
    "# Remove special characters, URLs etc."
   ],
   "metadata": {
    "collapsed": false
   }
  },
  {
   "cell_type": "code",
   "execution_count": 13,
   "outputs": [
    {
     "name": "stdout",
     "output_type": "stream",
     "text": [
      "\u001B[92m â #nzd/usd: targets the 100 week sma at 0.7190   #blog #silver #gold #forex\n",
      " â nzd/usd: targets the 100 week sma at 0.7190   blog silver gold forex\n"
     ]
    }
   ],
   "source": [
    "print('\\033[92m' + tweet)\n",
    "# print('\\033[94m')\n",
    "\n",
    "# remove old style retweet text \"RT\"\n",
    "tweet2 = re.sub(r'^RT[\\s]+','',tweet)\n",
    "\n",
    "# remove urls\n",
    "tweet2 = re.sub(r'https?://[^\\s\\n\\r]+','',tweet2)\n",
    "\n",
    "#remove hashtags\n",
    "tweet2 = re.sub(r'#','',tweet2)\n",
    "tweet2 = re.sub(r'ð','',tweet2)\n",
    "\n",
    "re.sub(\"(@[A-Za-z0-9]+)|([^0-9A-Za-z \\t])\", \" \",tweet2)\n",
    "print(tweet2)"
   ],
   "metadata": {
    "collapsed": false
   }
  },
  {
   "cell_type": "markdown",
   "source": [
    "# Tokenize"
   ],
   "metadata": {
    "collapsed": false
   }
  },
  {
   "cell_type": "code",
   "execution_count": 14,
   "outputs": [
    {
     "name": "stdout",
     "output_type": "stream",
     "text": [
      "['â', '\\x86', '\\x9d', 'nzd', '/', 'usd', ':', 'targets', 'the', '100', 'week', 'sma', 'at', '0.7190', 'blog', 'silver', 'gold', 'forex']\n"
     ]
    }
   ],
   "source": [
    "tokenizer = TweetTokenizer(preserve_case=False, reduce_len=True, strip_handles=True)\n",
    "tweet_token = tokenizer.tokenize(tweet2)\n",
    "\n",
    "print(tweet_token)"
   ],
   "metadata": {
    "collapsed": false
   }
  },
  {
   "cell_type": "markdown",
   "source": [
    "# Remove stopwords and punctuations"
   ],
   "metadata": {
    "collapsed": false
   }
  },
  {
   "cell_type": "code",
   "execution_count": 15,
   "outputs": [
    {
     "name": "stdout",
     "output_type": "stream",
     "text": [
      "Stop words\n",
      "\n",
      "['i', 'me', 'my', 'myself', 'we', 'our', 'ours', 'ourselves', 'you', \"you're\", \"you've\", \"you'll\", \"you'd\", 'your', 'yours', 'yourself', 'yourselves', 'he', 'him', 'his', 'himself', 'she', \"she's\", 'her', 'hers', 'herself', 'it', \"it's\", 'its', 'itself', 'they', 'them', 'their', 'theirs', 'themselves', 'what', 'which', 'who', 'whom', 'this', 'that', \"that'll\", 'these', 'those', 'am', 'is', 'are', 'was', 'were', 'be', 'been', 'being', 'have', 'has', 'had', 'having', 'do', 'does', 'did', 'doing', 'a', 'an', 'the', 'and', 'but', 'if', 'or', 'because', 'as', 'until', 'while', 'of', 'at', 'by', 'for', 'with', 'about', 'against', 'between', 'into', 'through', 'during', 'before', 'after', 'above', 'below', 'to', 'from', 'up', 'down', 'in', 'out', 'on', 'off', 'over', 'under', 'again', 'further', 'then', 'once', 'here', 'there', 'when', 'where', 'why', 'how', 'all', 'any', 'both', 'each', 'few', 'more', 'most', 'other', 'some', 'such', 'no', 'nor', 'not', 'only', 'own', 'same', 'so', 'than', 'too', 'very', 's', 't', 'can', 'will', 'just', 'don', \"don't\", 'should', \"should've\", 'now', 'd', 'll', 'm', 'o', 're', 've', 'y', 'ain', 'aren', \"aren't\", 'couldn', \"couldn't\", 'didn', \"didn't\", 'doesn', \"doesn't\", 'hadn', \"hadn't\", 'hasn', \"hasn't\", 'haven', \"haven't\", 'isn', \"isn't\", 'ma', 'mightn', \"mightn't\", 'mustn', \"mustn't\", 'needn', \"needn't\", 'shan', \"shan't\", 'shouldn', \"shouldn't\", 'wasn', \"wasn't\", 'weren', \"weren't\", 'won', \"won't\", 'wouldn', \"wouldn't\"]\n",
      "\n",
      "Punctuation\n",
      "\n",
      "!\"#$%&'()*+,-./:;<=>?@[\\]^_`{|}~\n"
     ]
    }
   ],
   "source": [
    "stopwords_english = stopwords.words('english')\n",
    "\n",
    "print('Stop words\\n')\n",
    "print(stopwords_english)\n",
    "\n",
    "print('\\nPunctuation\\n')\n",
    "print(string.punctuation)"
   ],
   "metadata": {
    "collapsed": false
   }
  },
  {
   "cell_type": "code",
   "execution_count": 16,
   "outputs": [
    {
     "name": "stdout",
     "output_type": "stream",
     "text": [
      "['â', '\\x86', '\\x9d', 'nzd', 'usd', 'targets', '100', 'week', 'sma', '0.7190', 'blog', 'silver', 'gold', 'forex']\n"
     ]
    }
   ],
   "source": [
    "clean_tweet = []\n",
    "\n",
    "for word in tweet_token:\n",
    "    if (word not in stopwords_english and\n",
    "            word not in string.punctuation):\n",
    "        clean_tweet.append(word)\n",
    "\n",
    "print(clean_tweet)"
   ],
   "metadata": {
    "collapsed": false
   }
  },
  {
   "cell_type": "markdown",
   "source": [
    "# Stemming"
   ],
   "metadata": {
    "collapsed": false
   }
  },
  {
   "cell_type": "code",
   "execution_count": 17,
   "outputs": [
    {
     "name": "stdout",
     "output_type": "stream",
     "text": [
      "['â', '\\x86', '\\x9d', 'nzd', 'usd', 'target', '100', 'week', 'sma', '0.7190', 'blog', 'silver', 'gold', 'forex']\n"
     ]
    }
   ],
   "source": [
    "stemmer = PorterStemmer()\n",
    "\n",
    "stem_tweet=[]\n",
    "\n",
    "for word in clean_tweet:\n",
    "    stem_tweet.append(stemmer.stem(word.lower()))\n",
    "\n",
    "print(stem_tweet)"
   ],
   "metadata": {
    "collapsed": false
   }
  },
  {
   "cell_type": "markdown",
   "source": [],
   "metadata": {
    "collapsed": false
   }
  },
  {
   "cell_type": "markdown",
   "source": [
    "In this way we can perform preprocessing for every tweet."
   ],
   "metadata": {
    "collapsed": false
   }
  },
  {
   "cell_type": "markdown",
   "source": [
    "# Preprocessing function"
   ],
   "metadata": {
    "collapsed": false
   }
  },
  {
   "cell_type": "code",
   "execution_count": 18,
   "outputs": [],
   "source": [
    "def process_tweet(tweet):\n",
    "    stemmer = PorterStemmer()\n",
    "    stopwords_english = stopwords.words('english')\n",
    "    tokenizer = TweetTokenizer(preserve_case=False, reduce_len=True, strip_handles=True)\n",
    "\n",
    "    # remove stock market tickers like $GE\n",
    "    tweet = re.sub(r'\\$\\w*', '', tweet)\n",
    "    # remove old style retweet text \"RT\"\n",
    "    tweet = re.sub(r'^RT[\\s]+', '', tweet)\n",
    "    # remove hyperlinks\n",
    "    tweet = re.sub(r'https?://[^\\s\\n\\r]+', '', tweet)\n",
    "    # remove hashtags\n",
    "    # only removing the hash # sign from the word\n",
    "    tweet = re.sub(r'#', '', tweet)\n",
    "\n",
    "    tweet_token = tokenizer.tokenize(tweet)\n",
    "    clean_tweet=[]\n",
    "    for word in tweet_token:\n",
    "        if (word not in stopwords_english and\n",
    "                word not in string.punctuation):\n",
    "            clean_tweet.append(stemmer.stem(word.lower()))\n",
    "\n",
    "    return clean_tweet"
   ],
   "metadata": {
    "collapsed": false
   }
  },
  {
   "cell_type": "code",
   "execution_count": 19,
   "outputs": [
    {
     "name": "stdout",
     "output_type": "stream",
     "text": [
      "   id  label                                              tweet  \\\n",
      "0   1      0   @user when a father is dysfunctional and is s...   \n",
      "1   2      0  @user @user thanks for #lyft credit i can't us...   \n",
      "2   3      0                                bihday your majesty   \n",
      "3   4      0  #model   i love u take with u all the time in ...   \n",
      "4   5      0             factsguide: society now    #motivation   \n",
      "\n",
      "                                     processed_tweet  \n",
      "0  [father, dysfunct, selfish, drag, kid, dysfunc...  \n",
      "1  [thank, lyft, credit, can't, use, caus, offer,...  \n",
      "2                                  [bihday, majesti]  \n",
      "3  [model, love, u, take, u, time, urð, , , ±, ...  \n",
      "4                        [factsguid, societi, motiv]  \n"
     ]
    }
   ],
   "source": [
    "#processing all tweets\n",
    "\n",
    "train['processed_tweet'] = train['tweet'].apply(process_tweet)\n",
    "print(train.head())\n"
   ],
   "metadata": {
    "collapsed": false
   }
  },
  {
   "cell_type": "markdown",
   "source": [
    "# Counting unique words in tweets"
   ],
   "metadata": {
    "collapsed": false
   }
  },
  {
   "cell_type": "code",
   "execution_count": 20,
   "outputs": [],
   "source": [
    "freq_count=dict()\n",
    "\n",
    "# for tweet in train['processed_tweet']:\n",
    "#     for word in tweet:\n",
    "#         if word not in freq_count.keys():\n",
    "#             freq_count[word] = 1\n",
    "#\n",
    "#         else:\n",
    "#             freq_count[word]+=1\n",
    "#\n",
    "# print(len(freq_count))\n",
    "\n",
    "# create dictionary based on positive negative tweets\n",
    "for y, tweet in zip(train['label'], train['processed_tweet']):\n",
    "    for word in tweet:\n",
    "        pair=(word,y)\n",
    "        if pair not in freq_count.keys():\n",
    "            freq_count[pair] = 1\n",
    "\n",
    "        else:\n",
    "            freq_count[pair]+=1\n",
    "\n",
    "# print(len(freq_count))"
   ],
   "metadata": {
    "collapsed": false
   }
  },
  {
   "cell_type": "markdown",
   "source": [
    "Total 36691 unique elements"
   ],
   "metadata": {
    "collapsed": false
   }
  },
  {
   "cell_type": "code",
   "execution_count": 21,
   "outputs": [],
   "source": [
    "positv = pd.DataFrame(columns = ['word', 'count'])\n",
    "negatv = pd.DataFrame(columns = ['word', 'count'])\n",
    "pos_neg = pd.DataFrame(columns = ['word', 'count'])\n",
    "\n",
    "for key, value in freq_count.items():\n",
    "    if key[1]==1:\n",
    "        positv.loc[len(positv.index)] = [key[0], value]\n",
    "    else:\n",
    "        negatv.loc[len(negatv.index)] = [key[0], value]\n",
    "\n",
    "    if key[0] in pos_neg['word']:\n",
    "        pos_neg[pos_neg['word']==key[0]].count+= value\n",
    "    else:\n",
    "        pos_neg.loc[len(pos_neg.index)] = [key[0], value]\n"
   ],
   "metadata": {
    "collapsed": false
   }
  },
  {
   "cell_type": "code",
   "execution_count": 22,
   "outputs": [
    {
     "data": {
      "text/plain": "   word  count\n26      17082\n29    ð  15600\n30       7207\n55       5715\n36    ¦   5282",
      "text/html": "<div>\n<style scoped>\n    .dataframe tbody tr th:only-of-type {\n        vertical-align: middle;\n    }\n\n    .dataframe tbody tr th {\n        vertical-align: top;\n    }\n\n    .dataframe thead th {\n        text-align: right;\n    }\n</style>\n<table border=\"1\" class=\"dataframe\">\n  <thead>\n    <tr style=\"text-align: right;\">\n      <th></th>\n      <th>word</th>\n      <th>count</th>\n    </tr>\n  </thead>\n  <tbody>\n    <tr>\n      <th>26</th>\n      <td></td>\n      <td>17082</td>\n    </tr>\n    <tr>\n      <th>29</th>\n      <td>ð</td>\n      <td>15600</td>\n    </tr>\n    <tr>\n      <th>30</th>\n      <td></td>\n      <td>7207</td>\n    </tr>\n    <tr>\n      <th>55</th>\n      <td></td>\n      <td>5715</td>\n    </tr>\n    <tr>\n      <th>36</th>\n      <td>¦</td>\n      <td>5282</td>\n    </tr>\n  </tbody>\n</table>\n</div>"
     },
     "execution_count": 22,
     "metadata": {},
     "output_type": "execute_result"
    }
   ],
   "source": [
    "positv.sort_values(by='count', inplace=True, ascending=False)\n",
    "negatv.sort_values(by='count', inplace=True, ascending=False)\n",
    "pos_neg.sort_values(by='count', inplace=True, ascending=False)\n",
    "\n",
    "negatv.head()"
   ],
   "metadata": {
    "collapsed": false
   }
  },
  {
   "cell_type": "code",
   "execution_count": 23,
   "outputs": [
    {
     "data": {
      "text/plain": "     word  count\n26        17082\n29      ð  15600\n30         7207\n55         5715\n36      ¦   5282\n74      â   4260\n35         3171\n21   love   3054\n190        2863\n156   day   2746",
      "text/html": "<div>\n<style scoped>\n    .dataframe tbody tr th:only-of-type {\n        vertical-align: middle;\n    }\n\n    .dataframe tbody tr th {\n        vertical-align: top;\n    }\n\n    .dataframe thead th {\n        text-align: right;\n    }\n</style>\n<table border=\"1\" class=\"dataframe\">\n  <thead>\n    <tr style=\"text-align: right;\">\n      <th></th>\n      <th>word</th>\n      <th>count</th>\n    </tr>\n  </thead>\n  <tbody>\n    <tr>\n      <th>26</th>\n      <td></td>\n      <td>17082</td>\n    </tr>\n    <tr>\n      <th>29</th>\n      <td>ð</td>\n      <td>15600</td>\n    </tr>\n    <tr>\n      <th>30</th>\n      <td></td>\n      <td>7207</td>\n    </tr>\n    <tr>\n      <th>55</th>\n      <td></td>\n      <td>5715</td>\n    </tr>\n    <tr>\n      <th>36</th>\n      <td>¦</td>\n      <td>5282</td>\n    </tr>\n    <tr>\n      <th>74</th>\n      <td>â</td>\n      <td>4260</td>\n    </tr>\n    <tr>\n      <th>35</th>\n      <td></td>\n      <td>3171</td>\n    </tr>\n    <tr>\n      <th>21</th>\n      <td>love</td>\n      <td>3054</td>\n    </tr>\n    <tr>\n      <th>190</th>\n      <td></td>\n      <td>2863</td>\n    </tr>\n    <tr>\n      <th>156</th>\n      <td>day</td>\n      <td>2746</td>\n    </tr>\n  </tbody>\n</table>\n</div>"
     },
     "execution_count": 23,
     "metadata": {},
     "output_type": "execute_result"
    }
   ],
   "source": [
    "negatv.head(10)"
   ],
   "metadata": {
    "collapsed": false
   }
  },
  {
   "cell_type": "code",
   "execution_count": 24,
   "outputs": [],
   "source": [
    "import seaborn as sns"
   ],
   "metadata": {
    "collapsed": false
   }
  },
  {
   "cell_type": "code",
   "execution_count": 25,
   "outputs": [
    {
     "data": {
      "text/plain": "Text(0.5, 1.0, 'Most frequent words in Negative tweets')"
     },
     "execution_count": 25,
     "metadata": {},
     "output_type": "execute_result"
    },
    {
     "name": "stderr",
     "output_type": "stream",
     "text": [
      "/Users/a91946/opt/anaconda3/lib/python3.9/site-packages/IPython/core/pylabtools.py:151: UserWarning: Glyph 152 (\\x98) missing from current font.\n",
      "  fig.canvas.print_figure(bytes_io, **kw)\n",
      "/Users/a91946/opt/anaconda3/lib/python3.9/site-packages/IPython/core/pylabtools.py:151: UserWarning: Glyph 153 (\\x99) missing from current font.\n",
      "  fig.canvas.print_figure(bytes_io, **kw)\n"
     ]
    },
    {
     "data": {
      "text/plain": "<Figure size 700x700 with 1 Axes>",
      "image/png": "[encoded data removed]"
     },
     "metadata": {},
     "output_type": "display_data"
    }
   ],
   "source": [
    "plt.figure(figsize=(7,7))\n",
    "sns.barplot(data=positv.iloc[10:60], x= 'count', y= 'word')\n",
    "plt.title('Most frequent words in Negative tweets')\n"
   ],
   "metadata": {
    "collapsed": false
   }
  },
  {
   "cell_type": "code",
   "execution_count": 26,
   "outputs": [
    {
     "data": {
      "text/plain": "Text(0.5, 1.0, 'Most frequent words in Positive tweets')"
     },
     "execution_count": 26,
     "metadata": {},
     "output_type": "execute_result"
    },
    {
     "name": "stderr",
     "output_type": "stream",
     "text": [
      "/Users/a91946/opt/anaconda3/lib/python3.9/site-packages/IPython/core/pylabtools.py:151: UserWarning: Glyph 159 (\\x9f) missing from current font.\n",
      "  fig.canvas.print_figure(bytes_io, **kw)\n",
      "/Users/a91946/opt/anaconda3/lib/python3.9/site-packages/IPython/core/pylabtools.py:151: UserWarning: Glyph 152 (\\x98) missing from current font.\n",
      "  fig.canvas.print_figure(bytes_io, **kw)\n",
      "/Users/a91946/opt/anaconda3/lib/python3.9/site-packages/IPython/core/pylabtools.py:151: UserWarning: Glyph 128 (\\x80) missing from current font.\n",
      "  fig.canvas.print_figure(bytes_io, **kw)\n",
      "/Users/a91946/opt/anaconda3/lib/python3.9/site-packages/IPython/core/pylabtools.py:151: UserWarning: Glyph 146 (\\x92) missing from current font.\n",
      "  fig.canvas.print_figure(bytes_io, **kw)\n",
      "/Users/a91946/opt/anaconda3/lib/python3.9/site-packages/IPython/core/pylabtools.py:151: UserWarning: Glyph 143 (\\x8f) missing from current font.\n",
      "  fig.canvas.print_figure(bytes_io, **kw)\n",
      "/Users/a91946/opt/anaconda3/lib/python3.9/site-packages/IPython/core/pylabtools.py:151: UserWarning: Glyph 145 (\\x91) missing from current font.\n",
      "  fig.canvas.print_figure(bytes_io, **kw)\n",
      "/Users/a91946/opt/anaconda3/lib/python3.9/site-packages/IPython/core/pylabtools.py:151: UserWarning: Glyph 153 (\\x99) missing from current font.\n",
      "  fig.canvas.print_figure(bytes_io, **kw)\n",
      "/Users/a91946/opt/anaconda3/lib/python3.9/site-packages/IPython/core/pylabtools.py:151: UserWarning: Glyph 141 (\\x8d) missing from current font.\n",
      "  fig.canvas.print_figure(bytes_io, **kw)\n",
      "/Users/a91946/opt/anaconda3/lib/python3.9/site-packages/IPython/core/pylabtools.py:151: UserWarning: Glyph 157 (\\x9d) missing from current font.\n",
      "  fig.canvas.print_figure(bytes_io, **kw)\n",
      "/Users/a91946/opt/anaconda3/lib/python3.9/site-packages/IPython/core/pylabtools.py:151: UserWarning: Glyph 142 (\\x8e) missing from current font.\n",
      "  fig.canvas.print_figure(bytes_io, **kw)\n",
      "/Users/a91946/opt/anaconda3/lib/python3.9/site-packages/IPython/core/pylabtools.py:151: UserWarning: Glyph 140 (\\x8c) missing from current font.\n",
      "  fig.canvas.print_figure(bytes_io, **kw)\n"
     ]
    },
    {
     "data": {
      "text/plain": "<Figure size 700x700 with 1 Axes>",
      "image/png": "[encoded data removed]"
     },
     "metadata": {},
     "output_type": "display_data"
    }
   ],
   "source": [
    "plt.figure(figsize=(7,7))\n",
    "sns.barplot(data=negatv.head(20), x= 'count', y= 'word')\n",
    "plt.title('Most frequent words in Positive tweets')"
   ],
   "metadata": {
    "collapsed": false
   }
  },
  {
   "cell_type": "code",
   "execution_count": 27,
   "outputs": [
    {
     "data": {
      "text/plain": "Text(0.5, 1.0, 'Most frequent words in all the tweets')"
     },
     "execution_count": 27,
     "metadata": {},
     "output_type": "execute_result"
    },
    {
     "name": "stderr",
     "output_type": "stream",
     "text": [
      "/Users/a91946/opt/anaconda3/lib/python3.9/site-packages/IPython/core/pylabtools.py:151: UserWarning: Glyph 145 (\\x91) missing from current font.\n",
      "  fig.canvas.print_figure(bytes_io, **kw)\n",
      "/Users/a91946/opt/anaconda3/lib/python3.9/site-packages/IPython/core/pylabtools.py:151: UserWarning: Glyph 153 (\\x99) missing from current font.\n",
      "  fig.canvas.print_figure(bytes_io, **kw)\n",
      "/Users/a91946/opt/anaconda3/lib/python3.9/site-packages/IPython/core/pylabtools.py:151: UserWarning: Glyph 141 (\\x8d) missing from current font.\n",
      "  fig.canvas.print_figure(bytes_io, **kw)\n",
      "/Users/a91946/opt/anaconda3/lib/python3.9/site-packages/IPython/core/pylabtools.py:151: UserWarning: Glyph 157 (\\x9d) missing from current font.\n",
      "  fig.canvas.print_figure(bytes_io, **kw)\n",
      "/Users/a91946/opt/anaconda3/lib/python3.9/site-packages/IPython/core/pylabtools.py:151: UserWarning: Glyph 142 (\\x8e) missing from current font.\n",
      "  fig.canvas.print_figure(bytes_io, **kw)\n",
      "/Users/a91946/opt/anaconda3/lib/python3.9/site-packages/IPython/core/pylabtools.py:151: UserWarning: Glyph 140 (\\x8c) missing from current font.\n",
      "  fig.canvas.print_figure(bytes_io, **kw)\n",
      "/Users/a91946/opt/anaconda3/lib/python3.9/site-packages/IPython/core/pylabtools.py:151: UserWarning: Glyph 128 (\\x80) missing from current font.\n",
      "  fig.canvas.print_figure(bytes_io, **kw)\n",
      "/Users/a91946/opt/anaconda3/lib/python3.9/site-packages/IPython/core/pylabtools.py:151: UserWarning: Glyph 130 (\\x82) missing from current font.\n",
      "  fig.canvas.print_figure(bytes_io, **kw)\n",
      "/Users/a91946/opt/anaconda3/lib/python3.9/site-packages/IPython/core/pylabtools.py:151: UserWarning: Glyph 156 (\\x9c) missing from current font.\n",
      "  fig.canvas.print_figure(bytes_io, **kw)\n",
      "/Users/a91946/opt/anaconda3/lib/python3.9/site-packages/IPython/core/pylabtools.py:151: UserWarning: Glyph 138 (\\x8a) missing from current font.\n",
      "  fig.canvas.print_figure(bytes_io, **kw)\n",
      "/Users/a91946/opt/anaconda3/lib/python3.9/site-packages/IPython/core/pylabtools.py:151: UserWarning: Glyph 148 (\\x94) missing from current font.\n",
      "  fig.canvas.print_figure(bytes_io, **kw)\n",
      "/Users/a91946/opt/anaconda3/lib/python3.9/site-packages/IPython/core/pylabtools.py:151: UserWarning: Glyph 147 (\\x93) missing from current font.\n",
      "  fig.canvas.print_figure(bytes_io, **kw)\n",
      "/Users/a91946/opt/anaconda3/lib/python3.9/site-packages/IPython/core/pylabtools.py:151: UserWarning: Glyph 132 (\\x84) missing from current font.\n",
      "  fig.canvas.print_figure(bytes_io, **kw)\n",
      "/Users/a91946/opt/anaconda3/lib/python3.9/site-packages/IPython/core/pylabtools.py:151: UserWarning: Glyph 129 (\\x81) missing from current font.\n",
      "  fig.canvas.print_figure(bytes_io, **kw)\n",
      "/Users/a91946/opt/anaconda3/lib/python3.9/site-packages/IPython/core/pylabtools.py:151: UserWarning: Glyph 131 (\\x83) missing from current font.\n",
      "  fig.canvas.print_figure(bytes_io, **kw)\n"
     ]
    },
    {
     "data": {
      "text/plain": "<Figure size 700x700 with 1 Axes>",
      "image/png": "[encoded data removed]"
     },
     "metadata": {},
     "output_type": "display_data"
    }
   ],
   "source": [
    "plt.figure(figsize=(7,7))\n",
    "sns.barplot(data=pos_neg.iloc[10:60], x= 'count', y= 'word')\n",
    "plt.title('Most frequent words in all the tweets')"
   ],
   "metadata": {
    "collapsed": false
   }
  },
  {
   "cell_type": "markdown",
   "source": [
    "# Oversampling to obtain Balanced dataset"
   ],
   "metadata": {
    "collapsed": false
   }
  },
  {
   "cell_type": "code",
   "execution_count": 28,
   "outputs": [
    {
     "data": {
      "text/plain": "                                         processed_tweet  label\n2051   [femal, worri, good, aâ, , , â, , , ð, , ...      0\n20151  [euro, 2016, marseil, england, russia, franc, ...      0\n6595                   [ego, suppos, happen, happen, ..]      0\n8676   [love, puppi, ð, , , ©, ð, , , ¾, labicha,...      0\n13588  [lighttherapi, help, depress, altwaystoh, heal...      0",
      "text/html": "<div>\n<style scoped>\n    .dataframe tbody tr th:only-of-type {\n        vertical-align: middle;\n    }\n\n    .dataframe tbody tr th {\n        vertical-align: top;\n    }\n\n    .dataframe thead th {\n        text-align: right;\n    }\n</style>\n<table border=\"1\" class=\"dataframe\">\n  <thead>\n    <tr style=\"text-align: right;\">\n      <th></th>\n      <th>processed_tweet</th>\n      <th>label</th>\n    </tr>\n  </thead>\n  <tbody>\n    <tr>\n      <th>2051</th>\n      <td>[femal, worri, good, aâ, , , â, , , ð, , ...</td>\n      <td>0</td>\n    </tr>\n    <tr>\n      <th>20151</th>\n      <td>[euro, 2016, marseil, england, russia, franc, ...</td>\n      <td>0</td>\n    </tr>\n    <tr>\n      <th>6595</th>\n      <td>[ego, suppos, happen, happen, ..]</td>\n      <td>0</td>\n    </tr>\n    <tr>\n      <th>8676</th>\n      <td>[love, puppi, ð, , , ©, ð, , , ¾, labicha,...</td>\n      <td>0</td>\n    </tr>\n    <tr>\n      <th>13588</th>\n      <td>[lighttherapi, help, depress, altwaystoh, heal...</td>\n      <td>0</td>\n    </tr>\n  </tbody>\n</table>\n</div>"
     },
     "execution_count": 28,
     "metadata": {},
     "output_type": "execute_result"
    }
   ],
   "source": [
    "from sklearn.model_selection import train_test_split\n",
    "\n",
    "# since the data in imbalanced we need to perform oversampling. But before that we need to divide the data intro train and test sets\n",
    "\n",
    "X_train, X_test, Y_train, Y_test = train_test_split(train.processed_tweet,train.label, test_size=0.2, random_state=1)\n",
    "\n",
    "train_data = pd.DataFrame(X_train)\n",
    "train_data['label']=pd.DataFrame(Y_train)\n",
    "trainP = train_data[train_data.label==0]\n",
    "trainN = train_data[train_data.label==1]\n",
    "\n",
    "negative_oversample = trainN.sample(trainP.shape[0], replace=True)\n",
    "negative_oversample.head()\n",
    "\n",
    "train_oversample=pd.concat([trainP, negative_oversample],axis=0)\n",
    "train_oversample.head()"
   ],
   "metadata": {
    "collapsed": false
   }
  },
  {
   "cell_type": "code",
   "execution_count": 29,
   "outputs": [],
   "source": [
    "X_trainNew = train_oversample.processed_tweet.squeeze()\n",
    "Y_trainNew = train_oversample.label.squeeze()\n",
    "\n",
    "# print(X_train.dtype)"
   ],
   "metadata": {
    "collapsed": false
   }
  },
  {
   "cell_type": "code",
   "execution_count": 30,
   "outputs": [],
   "source": [
    "from sklearn.feature_extraction.text import CountVectorizer , TfidfTransformer\n",
    "\n",
    "cv = CountVectorizer(stop_words='english')\n",
    "transformer = TfidfTransformer()\n"
   ],
   "metadata": {
    "collapsed": false
   }
  },
  {
   "cell_type": "code",
   "execution_count": 31,
   "outputs": [],
   "source": [
    "X_train_counts = cv.fit_transform(X_trainNew.apply(lambda x: ' '.join(x)))\n",
    "X_train_tfidf = transformer.fit_transform(X_train_counts)\n",
    "\n",
    "X_test_counts = cv.transform(X_test.apply(lambda x: ' '.join(x)))\n",
    "X_test_tfidf = transformer.transform(X_test_counts)"
   ],
   "metadata": {
    "collapsed": false
   }
  },
  {
   "cell_type": "markdown",
   "source": [
    "# Model Building"
   ],
   "metadata": {
    "collapsed": false
   }
  },
  {
   "cell_type": "code",
   "execution_count": 32,
   "outputs": [],
   "source": [
    "from sklearn.linear_model import LogisticRegression\n",
    "from sklearn import  svm\n",
    "from sklearn import naive_bayes\n",
    "from sklearn.ensemble import RandomForestClassifier\n",
    "\n",
    "from sklearn.metrics import  accuracy_score, f1_score, confusion_matrix, classification_report"
   ],
   "metadata": {
    "collapsed": false
   }
  },
  {
   "cell_type": "code",
   "execution_count": 33,
   "outputs": [],
   "source": [
    "LRmodel = LogisticRegression()\n",
    "LRmodel.fit(X_train_tfidf,Y_trainNew)\n",
    "predictions = LRmodel.predict(X_test_tfidf)"
   ],
   "metadata": {
    "collapsed": false
   }
  },
  {
   "cell_type": "code",
   "execution_count": 34,
   "outputs": [
    {
     "name": "stdout",
     "output_type": "stream",
     "text": [
      "\u001B[91mLogistic Regression Fit Results \u001B[0m\n",
      "Accuracy 0.9440012513686845\n",
      "f1 score 0.6564299424184261\n",
      "Confusion Matrix: \n",
      " [[5693  267]\n",
      " [  91  342]]\n",
      "              precision    recall  f1-score   support\n",
      "\n",
      "           0       0.98      0.96      0.97      5960\n",
      "           1       0.56      0.79      0.66       433\n",
      "\n",
      "    accuracy                           0.94      6393\n",
      "   macro avg       0.77      0.87      0.81      6393\n",
      "weighted avg       0.96      0.94      0.95      6393\n",
      "\n"
     ]
    }
   ],
   "source": [
    "print('\\033[91mLogistic Regression Fit Results \\033[0m')\n",
    "print('Accuracy', accuracy_score(Y_test,predictions))\n",
    "print('f1 score', f1_score(Y_test,predictions))\n",
    "print('Confusion Matrix: \\n',confusion_matrix(Y_test,predictions))\n",
    "print(classification_report(Y_test, predictions))"
   ],
   "metadata": {
    "collapsed": false
   }
  },
  {
   "cell_type": "code",
   "execution_count": 35,
   "outputs": [],
   "source": [
    "SVmodel = svm.LinearSVC()\n",
    "SVmodel.fit(X_train_tfidf,Y_trainNew)\n",
    "predictions = SVmodel.predict(X_test_tfidf)"
   ],
   "metadata": {
    "collapsed": false
   }
  },
  {
   "cell_type": "code",
   "execution_count": 36,
   "outputs": [
    {
     "name": "stdout",
     "output_type": "stream",
     "text": [
      "\u001B[91mSVM Fit Results \u001B[0m\n",
      "Accuracy 0.9538557797591115\n",
      "f1 score 0.6696528555431132\n",
      "Confusion Matrix: \n",
      " [[5799  161]\n",
      " [ 134  299]]\n",
      "              precision    recall  f1-score   support\n",
      "\n",
      "           0       0.98      0.97      0.98      5960\n",
      "           1       0.65      0.69      0.67       433\n",
      "\n",
      "    accuracy                           0.95      6393\n",
      "   macro avg       0.81      0.83      0.82      6393\n",
      "weighted avg       0.96      0.95      0.95      6393\n",
      "\n"
     ]
    }
   ],
   "source": [
    "print('\\033[91mSVM Fit Results \\033[0m')\n",
    "print('Accuracy', accuracy_score(Y_test,predictions))\n",
    "print('f1 score', f1_score(Y_test,predictions))\n",
    "print('Confusion Matrix: \\n',confusion_matrix(Y_test,predictions))\n",
    "print(classification_report(Y_test, predictions))"
   ],
   "metadata": {
    "collapsed": false
   }
  },
  {
   "cell_type": "code",
   "execution_count": 37,
   "outputs": [],
   "source": [
    "NBmodel = naive_bayes.MultinomialNB()\n",
    "NBmodel.fit(X_train_tfidf,Y_trainNew)\n",
    "predictions = NBmodel.predict(X_test_tfidf)"
   ],
   "metadata": {
    "collapsed": false
   }
  },
  {
   "cell_type": "code",
   "execution_count": 38,
   "outputs": [
    {
     "name": "stdout",
     "output_type": "stream",
     "text": [
      "\u001B[91mNaive Bayes Fit Results \u001B[0m\n",
      "Accuracy 0.905834506491475\n",
      "f1 score 0.5480480480480481\n",
      "Confusion Matrix: \n",
      " [[5426  534]\n",
      " [  68  365]]\n",
      "              precision    recall  f1-score   support\n",
      "\n",
      "           0       0.99      0.91      0.95      5960\n",
      "           1       0.41      0.84      0.55       433\n",
      "\n",
      "    accuracy                           0.91      6393\n",
      "   macro avg       0.70      0.88      0.75      6393\n",
      "weighted avg       0.95      0.91      0.92      6393\n",
      "\n"
     ]
    }
   ],
   "source": [
    "print('\\033[91mNaive Bayes Fit Results \\033[0m')\n",
    "print('Accuracy', accuracy_score(Y_test,predictions))\n",
    "print('f1 score', f1_score(Y_test,predictions))\n",
    "print('Confusion Matrix: \\n',confusion_matrix(Y_test,predictions))\n",
    "print(classification_report(Y_test, predictions))"
   ],
   "metadata": {
    "collapsed": false
   }
  },
  {
   "cell_type": "code",
   "execution_count": 39,
   "outputs": [],
   "source": [
    "RFmodel = RandomForestClassifier(n_estimators=500)\n",
    "RFmodel.fit(X_train_tfidf,Y_trainNew)\n",
    "predictions = RFmodel.predict(X_test_tfidf)"
   ],
   "metadata": {
    "collapsed": false
   }
  },
  {
   "cell_type": "code",
   "execution_count": 40,
   "outputs": [
    {
     "name": "stdout",
     "output_type": "stream",
     "text": [
      "\u001B[91mRandom Forest Fit Results \u001B[0m\n",
      "Accuracy 0.9527608321601752\n",
      "f1 score 0.6488372093023256\n",
      "Confusion Matrix [[5812  148]\n",
      " [ 154  279]]\n",
      "              precision    recall  f1-score   support\n",
      "\n",
      "           0       0.97      0.98      0.97      5960\n",
      "           1       0.65      0.64      0.65       433\n",
      "\n",
      "    accuracy                           0.95      6393\n",
      "   macro avg       0.81      0.81      0.81      6393\n",
      "weighted avg       0.95      0.95      0.95      6393\n",
      "\n"
     ]
    }
   ],
   "source": [
    "print('\\033[91mRandom Forest Fit Results \\033[0m')\n",
    "print('Accuracy', accuracy_score(Y_test,predictions))\n",
    "print('f1 score', f1_score(Y_test,predictions))\n",
    "print('Confusion Matrix',confusion_matrix(Y_test,predictions))\n",
    "print(classification_report(Y_test, predictions))"
   ],
   "metadata": {
    "collapsed": false
   }
  },
  {
   "cell_type": "code",
   "execution_count": 41,
   "outputs": [],
   "source": [
    "def predictNewReview():\n",
    "    newReview = input(\"Type the Review: \")\n",
    "\n",
    "    if newReview =='':\n",
    "        print('Invalid Review')\n",
    "    else:\n",
    "        newReview = process_tweet(newReview)\n",
    "        reviewVector = transformer.transform(cv.transform(newReview))\n",
    "        prediction =  RFmodel.predict(reviewVector)\n",
    "        if prediction[0] == 1:\n",
    "            print( \"Negative Review\" )\n",
    "        else:\n",
    "            print( \"Positive Review\")\n"
   ],
   "metadata": {
    "collapsed": false
   }
  },
  {
   "cell_type": "code",
   "execution_count": 42,
   "outputs": [
    {
     "name": "stdout",
     "output_type": "stream",
     "text": [
      "Positive Review\n"
     ]
    }
   ],
   "source": [
    "predictNewReview()"
   ],
   "metadata": {
    "collapsed": false
   }
  },
  {
   "cell_type": "markdown",
   "source": [
    "# Usinng Transformers"
   ],
   "metadata": {
    "collapsed": false
   }
  },
  {
   "cell_type": "code",
   "execution_count": 43,
   "outputs": [
    {
     "name": "stdout",
     "output_type": "stream",
     "text": [
      "Requirement already satisfied: transformers in /Users/a91946/opt/anaconda3/lib/python3.9/site-packages (4.27.3)\r\n",
      "Requirement already satisfied: regex!=2019.12.17 in /Users/a91946/opt/anaconda3/lib/python3.9/site-packages (from transformers) (2022.7.9)\r\n",
      "Requirement already satisfied: pyyaml>=5.1 in /Users/a91946/opt/anaconda3/lib/python3.9/site-packages (from transformers) (6.0)\r\n",
      "Requirement already satisfied: numpy>=1.17 in /Users/a91946/opt/anaconda3/lib/python3.9/site-packages (from transformers) (1.21.5)\r\n",
      "Requirement already satisfied: tokenizers!=0.11.3,<0.14,>=0.11.1 in /Users/a91946/opt/anaconda3/lib/python3.9/site-packages (from transformers) (0.13.2)\r\n",
      "Requirement already satisfied: huggingface-hub<1.0,>=0.11.0 in /Users/a91946/opt/anaconda3/lib/python3.9/site-packages (from transformers) (0.13.3)\r\n",
      "Requirement already satisfied: filelock in /Users/a91946/opt/anaconda3/lib/python3.9/site-packages (from transformers) (3.6.0)\r\n",
      "Requirement already satisfied: tqdm>=4.27 in /Users/a91946/opt/anaconda3/lib/python3.9/site-packages (from transformers) (4.64.1)\r\n",
      "Requirement already satisfied: requests in /Users/a91946/opt/anaconda3/lib/python3.9/site-packages (from transformers) (2.28.1)\r\n",
      "Requirement already satisfied: packaging>=20.0 in /Users/a91946/opt/anaconda3/lib/python3.9/site-packages (from transformers) (21.3)\r\n",
      "Requirement already satisfied: typing-extensions>=3.7.4.3 in /Users/a91946/opt/anaconda3/lib/python3.9/site-packages (from huggingface-hub<1.0,>=0.11.0->transformers) (4.3.0)\r\n",
      "Requirement already satisfied: pyparsing!=3.0.5,>=2.0.2 in /Users/a91946/opt/anaconda3/lib/python3.9/site-packages (from packaging>=20.0->transformers) (3.0.9)\r\n",
      "Requirement already satisfied: certifi>=2017.4.17 in /Users/a91946/opt/anaconda3/lib/python3.9/site-packages (from requests->transformers) (2022.9.24)\r\n",
      "Requirement already satisfied: urllib3<1.27,>=1.21.1 in /Users/a91946/opt/anaconda3/lib/python3.9/site-packages (from requests->transformers) (1.26.11)\r\n",
      "Requirement already satisfied: charset-normalizer<3,>=2 in /Users/a91946/opt/anaconda3/lib/python3.9/site-packages (from requests->transformers) (2.0.4)\r\n",
      "Requirement already satisfied: idna<4,>=2.5 in /Users/a91946/opt/anaconda3/lib/python3.9/site-packages (from requests->transformers) (3.3)\r\n",
      "Note: you may need to restart the kernel to use updated packages.\n"
     ]
    }
   ],
   "source": [
    "pip install transformers"
   ],
   "metadata": {
    "collapsed": false
   }
  },
  {
   "cell_type": "code",
   "execution_count": 44,
   "outputs": [],
   "source": [
    "from transformers import DistilBertTokenizerFast\n",
    "from transformers import Trainer, TrainingArguments"
   ],
   "metadata": {
    "collapsed": false
   }
  },
  {
   "cell_type": "code",
   "execution_count": 72,
   "outputs": [],
   "source": [
    "all_data=train[['tweet','label']]\n",
    "x_train, x_test, y_train, y_test = train_test_split(all_data.tweet,all_data.label, test_size=0.2, random_state=1)"
   ],
   "metadata": {
    "collapsed": false
   }
  },
  {
   "cell_type": "code",
   "execution_count": 73,
   "outputs": [],
   "source": [
    "training_data = pd.DataFrame(x_train)\n",
    "training_data['label'] = pd.DataFrame(y_train)\n",
    "testing_data = pd.DataFrame(x_test)\n",
    "testing_data['label'] = pd.DataFrame(y_test)"
   ],
   "metadata": {
    "collapsed": false
   }
  },
  {
   "cell_type": "code",
   "execution_count": 75,
   "outputs": [],
   "source": [
    "# Converting labels and tweets to list\n",
    "tweets = training_data.tweet.to_list()\n",
    "labels = training_data.label.to_list()"
   ],
   "metadata": {
    "collapsed": false
   }
  },
  {
   "cell_type": "code",
   "execution_count": 76,
   "outputs": [],
   "source": [
    "tokenizer = DistilBertTokenizerFast.from_pretrained(\"distilbert-base-uncased\")\n",
    "inputs= tokenizer(tweets,padding=\"max_length\",truncation=True)"
   ],
   "metadata": {
    "collapsed": false
   }
  },
  {
   "cell_type": "code",
   "execution_count": 77,
   "outputs": [
    {
     "name": "stdout",
     "output_type": "stream",
     "text": [
      "huggingface/tokenizers: The current process just got forked, after parallelism has already been used. Disabling parallelism to avoid deadlocks...\n",
      "To disable this warning, you can either:\n",
      "\t- Avoid using `tokenizers` before the fork if possible\n",
      "\t- Explicitly set the environment variable TOKENIZERS_PARALLELISM=(true | false)\n",
      "Collecting torch\r\n",
      "  Downloading torch-2.0.0-cp39-none-macosx_10_9_x86_64.whl (139.8 MB)\r\n",
      "\u001B[2K     \u001B[91m━━━━━━━━━━━━━━━━━━━━\u001B[0m\u001B[90m╺\u001B[0m\u001B[90m━━━━━━━━━━━━━━━━━━━\u001B[0m \u001B[32m70.6/139.8 MB\u001B[0m \u001B[31m3.4 MB/s\u001B[0m eta \u001B[36m0:00:21\u001B[0m^C\r\n",
      "\u001B[2K     \u001B[91m━━━━━━━━━━━━━━━━━━━━\u001B[0m\u001B[90m╺\u001B[0m\u001B[90m━━━━━━━━━━━━━━━━━━━\u001B[0m \u001B[32m70.9/139.8 MB\u001B[0m \u001B[31m3.3 MB/s\u001B[0m eta \u001B[36m0:00:21\u001B[0m\r\n",
      "\u001B[?25h\u001B[31mERROR: Operation cancelled by user\u001B[0m\u001B[31m\r\n",
      "\u001B[0mNote: you may need to restart the kernel to use updated packages.\n"
     ]
    }
   ],
   "source": [
    "pip install torch"
   ],
   "metadata": {
    "collapsed": false
   }
  },
  {
   "cell_type": "code",
   "execution_count": null,
   "outputs": [],
   "source": [],
   "metadata": {
    "collapsed": false
   }
  }
 ],
 "metadata": {
  "kernelspec": {
   "display_name": "Python 3",
   "language": "python",
   "name": "python3"
  },
  "language_info": {
   "codemirror_mode": {
    "name": "ipython",
    "version": 2
   },
   "file_extension": ".py",
   "mimetype": "text/x-python",
   "name": "python",
   "nbconvert_exporter": "python",
   "pygments_lexer": "ipython2",
   "version": "2.7.6"
  }
 },
 "nbformat": 4,
 "nbformat_minor": 0
}
