{
 "cells": [
  {
   "cell_type": "code",
   "execution_count": 247,
   "metadata": {
    "collapsed": true
   },
   "outputs": [],
   "source": [
    "import nltk\n",
    "import matplotlib.pyplot as plt\n",
    "import random\n",
    "import numpy as np\n",
    "import pandas as pd"
   ]
  },
  {
   "cell_type": "code",
   "execution_count": 248,
   "outputs": [],
   "source": [
    "train = pd.read_csv(\"train_E6oV3lV.csv\")\n",
    "test = pd. read_csv(\"test_tweets_anuFYb8.csv\")"
   ],
   "metadata": {
    "collapsed": false
   }
  },
  {
   "cell_type": "code",
   "execution_count": 249,
   "outputs": [
    {
     "data": {
      "text/plain": "          id                                              tweet\n17192  49155  thought factory: left-right polarisation! #tru...\n17193  49156  feeling like a mermaid ð #hairflip #neverre...\n17194  49157  #hillary #campaigned today in #ohio((omg)) &am...\n17195  49158  happy, at work conference: right mindset leads...\n17196  49159  my   song \"so glad\" free download!  #shoegaze ...",
      "text/html": "<div>\n<style scoped>\n    .dataframe tbody tr th:only-of-type {\n        vertical-align: middle;\n    }\n\n    .dataframe tbody tr th {\n        vertical-align: top;\n    }\n\n    .dataframe thead th {\n        text-align: right;\n    }\n</style>\n<table border=\"1\" class=\"dataframe\">\n  <thead>\n    <tr style=\"text-align: right;\">\n      <th></th>\n      <th>id</th>\n      <th>tweet</th>\n    </tr>\n  </thead>\n  <tbody>\n    <tr>\n      <th>17192</th>\n      <td>49155</td>\n      <td>thought factory: left-right polarisation! #tru...</td>\n    </tr>\n    <tr>\n      <th>17193</th>\n      <td>49156</td>\n      <td>feeling like a mermaid ð #hairflip #neverre...</td>\n    </tr>\n    <tr>\n      <th>17194</th>\n      <td>49157</td>\n      <td>#hillary #campaigned today in #ohio((omg)) &amp;am...</td>\n    </tr>\n    <tr>\n      <th>17195</th>\n      <td>49158</td>\n      <td>happy, at work conference: right mindset leads...</td>\n    </tr>\n    <tr>\n      <th>17196</th>\n      <td>49159</td>\n      <td>my   song \"so glad\" free download!  #shoegaze ...</td>\n    </tr>\n  </tbody>\n</table>\n</div>"
     },
     "execution_count": 249,
     "metadata": {},
     "output_type": "execute_result"
    }
   ],
   "source": [
    "test.tail()"
   ],
   "metadata": {
    "collapsed": false
   }
  },
  {
   "cell_type": "code",
   "execution_count": 250,
   "outputs": [
    {
     "name": "stdout",
     "output_type": "stream",
     "text": [
      "Training data shape (31962, 3)\n",
      "Testing data shape (17197, 2)\n"
     ]
    }
   ],
   "source": [
    "print(f'Training data shape {train.shape}')\n",
    "print(f'Testing data shape {test.shape}')"
   ],
   "metadata": {
    "collapsed": false
   }
  },
  {
   "cell_type": "markdown",
   "source": [
    "Labels are missing in testing data hence, we will move forward with only training data. We will train the model by splitting the training data into train and test sets."
   ],
   "metadata": {
    "collapsed": false
   }
  },
  {
   "cell_type": "markdown",
   "source": [
    "# Checking Positive and Negative Tweets"
   ],
   "metadata": {
    "collapsed": false
   }
  },
  {
   "cell_type": "code",
   "execution_count": 280,
   "outputs": [
    {
     "name": "stdout",
     "output_type": "stream",
     "text": [
      "Train positive shape (29720, 4)\n",
      "Train negative shape (2242, 4)\n"
     ]
    }
   ],
   "source": [
    "train_positive = train[train.label==0]\n",
    "train_negative = train[train['label']==1]\n",
    "\n",
    "print(f'Train positive shape {train_positive.shape}')\n",
    "print(f'Train negative shape {train_negative.shape}')"
   ],
   "metadata": {
    "collapsed": false
   }
  },
  {
   "cell_type": "code",
   "execution_count": 281,
   "outputs": [
    {
     "data": {
      "text/plain": "<Figure size 500x500 with 1 Axes>",
      "image/png": "[encoded data removed]"
     },
     "metadata": {},
     "output_type": "display_data"
    }
   ],
   "source": [
    "fig = plt.figure(figsize=(5,5))\n",
    "labels = ['Positve', 'Negative']\n",
    "# print(type(labels))\n",
    "sizes = [train_positive.shape[0], train_negative.shape[0]]\n",
    "plt.pie(sizes,labels=labels, autopct = '%1.1f%%', shadow=True, startangle=90)\n",
    "plt.axis('equal')\n",
    "plt.show()"
   ],
   "metadata": {
    "collapsed": false
   }
  },
  {
   "cell_type": "markdown",
   "source": [
    "Hence, the data is highly imbalanced and we need to perform under/over sampling.\n"
   ],
   "metadata": {
    "collapsed": false
   }
  },
  {
   "cell_type": "code",
   "execution_count": 253,
   "outputs": [
    {
     "name": "stdout",
     "output_type": "stream",
     "text": [
      "id       0\n",
      "label    0\n",
      "tweet    0\n",
      "dtype: int64\n"
     ]
    }
   ],
   "source": [
    "# Checking null values\n",
    "print(train.isnull().sum())\n",
    "# print(train.isna().sum())"
   ],
   "metadata": {
    "collapsed": false
   }
  },
  {
   "cell_type": "code",
   "execution_count": 254,
   "outputs": [
    {
     "name": "stdout",
     "output_type": "stream",
     "text": [
      "[\"suspected henrico #vandal's #mother: #'my #son isn't ' - dec 31 @ 9:46 pm et  \"]\n",
      "['keep your face to the sunshine and you cannot see the shadow--helen keller   #outsideâ\\x80¦ ']\n"
     ]
    }
   ],
   "source": [
    "# printing a random tweet\n",
    "print(list(train_positive.sample().tweet))\n",
    "print(list(train_negative.sample().tweet))"
   ],
   "metadata": {
    "collapsed": false
   }
  },
  {
   "cell_type": "markdown",
   "source": [
    "# Pre-processing"
   ],
   "metadata": {
    "collapsed": false
   }
  },
  {
   "cell_type": "markdown",
   "source": [
    "The data needs to be cleaned by removing urls emoticons or any random characters which doesnt make sense.\n",
    "Data preprocessing is one of the critical steps in any machine learning project. It includes cleaning and formatting the data before feeding into a machine learning algorithm. For NLP, the preprocessing steps are comprised of the following tasks:\n",
    "\n",
    "* Tokenizing the string\n",
    "* Lowercasing\n",
    "* Removing stop words and punctuation\n",
    "* Stemming\n"
   ],
   "metadata": {
    "collapsed": false
   }
  },
  {
   "cell_type": "code",
   "execution_count": 255,
   "outputs": [
    {
     "name": "stderr",
     "output_type": "stream",
     "text": [
      "[nltk_data] Downloading package stopwords to\n",
      "[nltk_data]     /Users/a91946/nltk_data...\n",
      "[nltk_data]   Package stopwords is already up-to-date!\n"
     ]
    },
    {
     "data": {
      "text/plain": "True"
     },
     "execution_count": 255,
     "metadata": {},
     "output_type": "execute_result"
    }
   ],
   "source": [
    "nltk.download('stopwords')"
   ],
   "metadata": {
    "collapsed": false
   }
  },
  {
   "cell_type": "markdown",
   "source": [
    "Selecting a random tweet and performing cleaning (example)"
   ],
   "metadata": {
    "collapsed": false
   }
  },
  {
   "cell_type": "code",
   "execution_count": 299,
   "outputs": [
    {
     "name": "stdout",
     "output_type": "stream",
     "text": [
      "#model   i love u take with u all the time in urð±!!! ððððð¦ð¦ð¦  \n"
     ]
    }
   ],
   "source": [
    "random.seed(300)\n",
    "rand_val = np.random.randint(0,2242)\n",
    "tweet= train.loc[rand_val].tweet\n",
    "\n",
    "# tweet= train[['tweet']].iloc[rand_val]\n",
    "print(tweet)"
   ],
   "metadata": {
    "collapsed": false
   }
  },
  {
   "cell_type": "code",
   "execution_count": 296,
   "outputs": [],
   "source": [
    "import re\n",
    "import string\n",
    "\n",
    "from nltk.corpus import stopwords\n",
    "from nltk.stem import PorterStemmer\n",
    "from nltk.tokenize import TweetTokenizer"
   ],
   "metadata": {
    "collapsed": false
   }
  },
  {
   "cell_type": "markdown",
   "source": [
    "# Remove special characters, URLs etc."
   ],
   "metadata": {
    "collapsed": false
   }
  },
  {
   "cell_type": "code",
   "execution_count": 303,
   "outputs": [
    {
     "name": "stdout",
     "output_type": "stream",
     "text": [
      "\u001B[92m#model   i love u take with u all the time in urð±!!! ððððð¦ð¦ð¦  \n",
      "model   i love u take with u all the time in ur±!!! ¦¦¦  \n"
     ]
    }
   ],
   "source": [
    "print('\\033[92m' + tweet)\n",
    "# print('\\033[94m')\n",
    "\n",
    "# remove old style retweet text \"RT\"\n",
    "tweet2 = re.sub(r'^RT[\\s]+','',tweet)\n",
    "\n",
    "# remove urls\n",
    "tweet2 = re.sub(r'https?://[^\\s\\n\\r]+','',tweet2)\n",
    "\n",
    "#remove hashtags\n",
    "tweet2 = re.sub(r'#','',tweet2)\n",
    "tweet2 = re.sub(r'ð','',tweet2)\n",
    "\n",
    "re.sub(\"(@[A-Za-z0-9]+)|([^0-9A-Za-z \\t])\", \" \",tweet2)\n",
    "print(tweet2)"
   ],
   "metadata": {
    "collapsed": false
   }
  },
  {
   "cell_type": "markdown",
   "source": [
    "# Tokenize"
   ],
   "metadata": {
    "collapsed": false
   }
  },
  {
   "cell_type": "code",
   "execution_count": 259,
   "outputs": [
    {
     "name": "stdout",
     "output_type": "stream",
     "text": [
      "['fellowship', '.', 'ð', '\\x9f', '\\x98', '\\x8a', 'lifegroup']\n"
     ]
    }
   ],
   "source": [
    "tokenizer = TweetTokenizer(preserve_case=False, reduce_len=True, strip_handles=True)\n",
    "tweet_token = tokenizer.tokenize(tweet2)\n",
    "\n",
    "print(tweet_token)"
   ],
   "metadata": {
    "collapsed": false
   }
  },
  {
   "cell_type": "markdown",
   "source": [
    "# Remove stopwords and punctuations"
   ],
   "metadata": {
    "collapsed": false
   }
  },
  {
   "cell_type": "code",
   "execution_count": 260,
   "outputs": [
    {
     "name": "stdout",
     "output_type": "stream",
     "text": [
      "Stop words\n",
      "\n",
      "['i', 'me', 'my', 'myself', 'we', 'our', 'ours', 'ourselves', 'you', \"you're\", \"you've\", \"you'll\", \"you'd\", 'your', 'yours', 'yourself', 'yourselves', 'he', 'him', 'his', 'himself', 'she', \"she's\", 'her', 'hers', 'herself', 'it', \"it's\", 'its', 'itself', 'they', 'them', 'their', 'theirs', 'themselves', 'what', 'which', 'who', 'whom', 'this', 'that', \"that'll\", 'these', 'those', 'am', 'is', 'are', 'was', 'were', 'be', 'been', 'being', 'have', 'has', 'had', 'having', 'do', 'does', 'did', 'doing', 'a', 'an', 'the', 'and', 'but', 'if', 'or', 'because', 'as', 'until', 'while', 'of', 'at', 'by', 'for', 'with', 'about', 'against', 'between', 'into', 'through', 'during', 'before', 'after', 'above', 'below', 'to', 'from', 'up', 'down', 'in', 'out', 'on', 'off', 'over', 'under', 'again', 'further', 'then', 'once', 'here', 'there', 'when', 'where', 'why', 'how', 'all', 'any', 'both', 'each', 'few', 'more', 'most', 'other', 'some', 'such', 'no', 'nor', 'not', 'only', 'own', 'same', 'so', 'than', 'too', 'very', 's', 't', 'can', 'will', 'just', 'don', \"don't\", 'should', \"should've\", 'now', 'd', 'll', 'm', 'o', 're', 've', 'y', 'ain', 'aren', \"aren't\", 'couldn', \"couldn't\", 'didn', \"didn't\", 'doesn', \"doesn't\", 'hadn', \"hadn't\", 'hasn', \"hasn't\", 'haven', \"haven't\", 'isn', \"isn't\", 'ma', 'mightn', \"mightn't\", 'mustn', \"mustn't\", 'needn', \"needn't\", 'shan', \"shan't\", 'shouldn', \"shouldn't\", 'wasn', \"wasn't\", 'weren', \"weren't\", 'won', \"won't\", 'wouldn', \"wouldn't\"]\n",
      "\n",
      "Punctuation\n",
      "\n",
      "!\"#$%&'()*+,-./:;<=>?@[\\]^_`{|}~\n"
     ]
    }
   ],
   "source": [
    "stopwords_english = stopwords.words('english')\n",
    "\n",
    "print('Stop words\\n')\n",
    "print(stopwords_english)\n",
    "\n",
    "print('\\nPunctuation\\n')\n",
    "print(string.punctuation)"
   ],
   "metadata": {
    "collapsed": false
   }
  },
  {
   "cell_type": "code",
   "execution_count": 261,
   "outputs": [
    {
     "name": "stdout",
     "output_type": "stream",
     "text": [
      "['fellowship', 'ð', '\\x9f', '\\x98', '\\x8a', 'lifegroup']\n"
     ]
    }
   ],
   "source": [
    "clean_tweet = []\n",
    "\n",
    "for word in tweet_token:\n",
    "    if (word not in stopwords_english and\n",
    "            word not in string.punctuation):\n",
    "        clean_tweet.append(word)\n",
    "\n",
    "print(clean_tweet)"
   ],
   "metadata": {
    "collapsed": false
   }
  },
  {
   "cell_type": "markdown",
   "source": [
    "# Stemming"
   ],
   "metadata": {
    "collapsed": false
   }
  },
  {
   "cell_type": "code",
   "execution_count": 262,
   "outputs": [
    {
     "name": "stdout",
     "output_type": "stream",
     "text": [
      "['fellowship', 'ð', '\\x9f', '\\x98', '\\x8a', 'lifegroup']\n"
     ]
    }
   ],
   "source": [
    "stemmer = PorterStemmer()\n",
    "\n",
    "stem_tweet=[]\n",
    "\n",
    "for word in clean_tweet:\n",
    "    stem_tweet.append(stemmer.stem(word.lower()))\n",
    "\n",
    "print(stem_tweet)"
   ],
   "metadata": {
    "collapsed": false
   }
  },
  {
   "cell_type": "markdown",
   "source": [],
   "metadata": {
    "collapsed": false
   }
  },
  {
   "cell_type": "markdown",
   "source": [
    "In this way we can perform preprocessing for every tweet."
   ],
   "metadata": {
    "collapsed": false
   }
  },
  {
   "cell_type": "markdown",
   "source": [
    "# Preprocessing function"
   ],
   "metadata": {
    "collapsed": false
   }
  },
  {
   "cell_type": "code",
   "execution_count": 263,
   "outputs": [],
   "source": [
    "def process_tweet(tweet):\n",
    "    stemmer = PorterStemmer()\n",
    "    stopwords_english = stopwords.words('english')\n",
    "    tokenizer = TweetTokenizer(preserve_case=False, reduce_len=True, strip_handles=True)\n",
    "\n",
    "    # remove stock market tickers like $GE\n",
    "    tweet = re.sub(r'\\$\\w*', '', tweet)\n",
    "    # remove old style retweet text \"RT\"\n",
    "    tweet = re.sub(r'^RT[\\s]+', '', tweet)\n",
    "    # remove hyperlinks\n",
    "    tweet = re.sub(r'https?://[^\\s\\n\\r]+', '', tweet)\n",
    "    # remove hashtags\n",
    "    # only removing the hash # sign from the word\n",
    "    tweet = re.sub(r'#', '', tweet)\n",
    "\n",
    "    tweet_token = tokenizer.tokenize(tweet)\n",
    "    clean_tweet=[]\n",
    "    for word in tweet_token:\n",
    "        if (word not in stopwords_english and\n",
    "                word not in string.punctuation):\n",
    "            clean_tweet.append(stemmer.stem(word.lower()))\n",
    "\n",
    "    return clean_tweet"
   ],
   "metadata": {
    "collapsed": false
   }
  },
  {
   "cell_type": "code",
   "execution_count": 264,
   "outputs": [
    {
     "name": "stdout",
     "output_type": "stream",
     "text": [
      "   id  label                                              tweet  \\\n",
      "0   1      0   @user when a father is dysfunctional and is s...   \n",
      "1   2      0  @user @user thanks for #lyft credit i can't us...   \n",
      "2   3      0                                bihday your majesty   \n",
      "3   4      0  #model   i love u take with u all the time in ...   \n",
      "4   5      0             factsguide: society now    #motivation   \n",
      "\n",
      "                                     processed_tweet  \n",
      "0  [father, dysfunct, selfish, drag, kid, dysfunc...  \n",
      "1  [thank, lyft, credit, can't, use, caus, offer,...  \n",
      "2                                  [bihday, majesti]  \n",
      "3  [model, love, u, take, u, time, urð, , , ±, ...  \n",
      "4                        [factsguid, societi, motiv]  \n"
     ]
    }
   ],
   "source": [
    "#processing all tweets\n",
    "\n",
    "train['processed_tweet'] = train['tweet'].apply(process_tweet)\n",
    "print(train.head())\n"
   ],
   "metadata": {
    "collapsed": false
   }
  },
  {
   "cell_type": "markdown",
   "source": [
    "# Counting unique words in tweets"
   ],
   "metadata": {
    "collapsed": false
   }
  },
  {
   "cell_type": "code",
   "execution_count": 265,
   "outputs": [],
   "source": [
    "freq_count=dict()\n",
    "\n",
    "# for tweet in train['processed_tweet']:\n",
    "#     for word in tweet:\n",
    "#         if word not in freq_count.keys():\n",
    "#             freq_count[word] = 1\n",
    "#\n",
    "#         else:\n",
    "#             freq_count[word]+=1\n",
    "#\n",
    "# print(len(freq_count))\n",
    "\n",
    "# create dictionary based on positive negative tweets\n",
    "for y, tweet in zip(train['label'], train['processed_tweet']):\n",
    "    for word in tweet:\n",
    "        pair=(word,y)\n",
    "        if pair not in freq_count.keys():\n",
    "            freq_count[pair] = 1\n",
    "\n",
    "        else:\n",
    "            freq_count[pair]+=1\n",
    "\n",
    "# print(len(freq_count))"
   ],
   "metadata": {
    "collapsed": false
   }
  },
  {
   "cell_type": "markdown",
   "source": [
    "Total 36691 unique elements"
   ],
   "metadata": {
    "collapsed": false
   }
  },
  {
   "cell_type": "code",
   "execution_count": 266,
   "outputs": [],
   "source": [
    "positv = pd.DataFrame(columns = ['word', 'count'])\n",
    "negatv = pd.DataFrame(columns = ['word', 'count'])\n",
    "pos_neg = pd.DataFrame(columns = ['word', 'count'])\n",
    "\n",
    "for key, value in freq_count.items():\n",
    "    if key[1]==1:\n",
    "        positv.loc[len(positv.index)] = [key[0], value]\n",
    "    else:\n",
    "        negatv.loc[len(negatv.index)] = [key[0], value]\n",
    "\n",
    "    if key[0] in pos_neg['word']:\n",
    "        pos_neg[pos_neg['word']==key[0]].count+= value\n",
    "    else:\n",
    "        pos_neg.loc[len(pos_neg.index)] = [key[0], value]\n",
    "\n",
    "\n"
   ],
   "metadata": {
    "collapsed": false
   }
  },
  {
   "cell_type": "code",
   "execution_count": 279,
   "outputs": [
    {
     "data": {
      "text/plain": "   word  count\n26      17082\n29    ð  15600\n30       7207\n55       5715\n36    ¦   5282",
      "text/html": "<div>\n<style scoped>\n    .dataframe tbody tr th:only-of-type {\n        vertical-align: middle;\n    }\n\n    .dataframe tbody tr th {\n        vertical-align: top;\n    }\n\n    .dataframe thead th {\n        text-align: right;\n    }\n</style>\n<table border=\"1\" class=\"dataframe\">\n  <thead>\n    <tr style=\"text-align: right;\">\n      <th></th>\n      <th>word</th>\n      <th>count</th>\n    </tr>\n  </thead>\n  <tbody>\n    <tr>\n      <th>26</th>\n      <td></td>\n      <td>17082</td>\n    </tr>\n    <tr>\n      <th>29</th>\n      <td>ð</td>\n      <td>15600</td>\n    </tr>\n    <tr>\n      <th>30</th>\n      <td></td>\n      <td>7207</td>\n    </tr>\n    <tr>\n      <th>55</th>\n      <td></td>\n      <td>5715</td>\n    </tr>\n    <tr>\n      <th>36</th>\n      <td>¦</td>\n      <td>5282</td>\n    </tr>\n  </tbody>\n</table>\n</div>"
     },
     "execution_count": 279,
     "metadata": {},
     "output_type": "execute_result"
    }
   ],
   "source": [
    "positv.sort_values(by='count', inplace=True, ascending=False)\n",
    "negatv.sort_values(by='count', inplace=True, ascending=False)\n",
    "pos_neg.sort_values(by='count', inplace=True, ascending=False)\n",
    "\n",
    "negatv.head()"
   ],
   "metadata": {
    "collapsed": false
   }
  },
  {
   "cell_type": "code",
   "execution_count": 268,
   "outputs": [],
   "source": [
    "import seaborn as sns"
   ],
   "metadata": {
    "collapsed": false
   }
  },
  {
   "cell_type": "code",
   "execution_count": 272,
   "outputs": [
    {
     "data": {
      "text/plain": "Text(0.5, 1.0, 'Most frequent words in Positive tweets')"
     },
     "execution_count": 272,
     "metadata": {},
     "output_type": "execute_result"
    },
    {
     "name": "stderr",
     "output_type": "stream",
     "text": [
      "/Users/a91946/opt/anaconda3/lib/python3.9/site-packages/IPython/core/pylabtools.py:151: UserWarning: Glyph 128 (\\x80) missing from current font.\n",
      "  fig.canvas.print_figure(bytes_io, **kw)\n",
      "/Users/a91946/opt/anaconda3/lib/python3.9/site-packages/IPython/core/pylabtools.py:151: UserWarning: Glyph 159 (\\x9f) missing from current font.\n",
      "  fig.canvas.print_figure(bytes_io, **kw)\n",
      "/Users/a91946/opt/anaconda3/lib/python3.9/site-packages/IPython/core/pylabtools.py:151: UserWarning: Glyph 152 (\\x98) missing from current font.\n",
      "  fig.canvas.print_figure(bytes_io, **kw)\n",
      "/Users/a91946/opt/anaconda3/lib/python3.9/site-packages/IPython/core/pylabtools.py:151: UserWarning: Glyph 153 (\\x99) missing from current font.\n",
      "  fig.canvas.print_figure(bytes_io, **kw)\n"
     ]
    },
    {
     "data": {
      "text/plain": "<Figure size 700x700 with 1 Axes>",
      "image/png": "[encoded data removed]"
     },
     "metadata": {},
     "output_type": "display_data"
    }
   ],
   "source": [
    "plt.figure(figsize=(7,7))\n",
    "sns.barplot(data=positv.iloc[:50], x= 'count', y= 'word')\n",
    "plt.title('Most frequent words in Positive tweets')\n"
   ],
   "metadata": {
    "collapsed": false
   }
  },
  {
   "cell_type": "code",
   "execution_count": 276,
   "outputs": [
    {
     "data": {
      "text/plain": "Text(0.5, 1.0, 'Most frequent words in Negative tweets')"
     },
     "execution_count": 276,
     "metadata": {},
     "output_type": "execute_result"
    },
    {
     "name": "stderr",
     "output_type": "stream",
     "text": [
      "/Users/a91946/opt/anaconda3/lib/python3.9/site-packages/IPython/core/pylabtools.py:151: UserWarning: Glyph 159 (\\x9f) missing from current font.\n",
      "  fig.canvas.print_figure(bytes_io, **kw)\n",
      "/Users/a91946/opt/anaconda3/lib/python3.9/site-packages/IPython/core/pylabtools.py:151: UserWarning: Glyph 152 (\\x98) missing from current font.\n",
      "  fig.canvas.print_figure(bytes_io, **kw)\n",
      "/Users/a91946/opt/anaconda3/lib/python3.9/site-packages/IPython/core/pylabtools.py:151: UserWarning: Glyph 128 (\\x80) missing from current font.\n",
      "  fig.canvas.print_figure(bytes_io, **kw)\n",
      "/Users/a91946/opt/anaconda3/lib/python3.9/site-packages/IPython/core/pylabtools.py:151: UserWarning: Glyph 146 (\\x92) missing from current font.\n",
      "  fig.canvas.print_figure(bytes_io, **kw)\n",
      "/Users/a91946/opt/anaconda3/lib/python3.9/site-packages/IPython/core/pylabtools.py:151: UserWarning: Glyph 143 (\\x8f) missing from current font.\n",
      "  fig.canvas.print_figure(bytes_io, **kw)\n"
     ]
    },
    {
     "data": {
      "text/plain": "<Figure size 700x700 with 1 Axes>",
      "image/png": "[encoded data removed]"
     },
     "metadata": {},
     "output_type": "display_data"
    }
   ],
   "source": [
    "plt.figure(figsize=(7,7))\n",
    "sns.barplot(data=negatv.head(10), x= 'count', y= 'word')\n",
    "plt.title('Most frequent words in Negative tweets')"
   ],
   "metadata": {
    "collapsed": false
   }
  },
  {
   "cell_type": "code",
   "execution_count": 282,
   "outputs": [
    {
     "data": {
      "text/plain": "Text(0.5, 1.0, 'Most frequent words in all the tweets')"
     },
     "execution_count": 282,
     "metadata": {},
     "output_type": "execute_result"
    },
    {
     "name": "stderr",
     "output_type": "stream",
     "text": [
      "/Users/a91946/opt/anaconda3/lib/python3.9/site-packages/IPython/core/pylabtools.py:151: UserWarning: Glyph 159 (\\x9f) missing from current font.\n",
      "  fig.canvas.print_figure(bytes_io, **kw)\n",
      "/Users/a91946/opt/anaconda3/lib/python3.9/site-packages/IPython/core/pylabtools.py:151: UserWarning: Glyph 152 (\\x98) missing from current font.\n",
      "  fig.canvas.print_figure(bytes_io, **kw)\n",
      "/Users/a91946/opt/anaconda3/lib/python3.9/site-packages/IPython/core/pylabtools.py:151: UserWarning: Glyph 128 (\\x80) missing from current font.\n",
      "  fig.canvas.print_figure(bytes_io, **kw)\n",
      "/Users/a91946/opt/anaconda3/lib/python3.9/site-packages/IPython/core/pylabtools.py:151: UserWarning: Glyph 146 (\\x92) missing from current font.\n",
      "  fig.canvas.print_figure(bytes_io, **kw)\n",
      "/Users/a91946/opt/anaconda3/lib/python3.9/site-packages/IPython/core/pylabtools.py:151: UserWarning: Glyph 143 (\\x8f) missing from current font.\n",
      "  fig.canvas.print_figure(bytes_io, **kw)\n"
     ]
    },
    {
     "data": {
      "text/plain": "<Figure size 700x700 with 1 Axes>",
      "image/png": "[encoded data removed]"
     },
     "metadata": {},
     "output_type": "display_data"
    }
   ],
   "source": [
    "plt.figure(figsize=(7,7))\n",
    "sns.barplot(data=pos_neg.head(10), x= 'count', y= 'word')\n",
    "plt.title('Most frequent words in all the tweets')"
   ],
   "metadata": {
    "collapsed": false
   }
  },
  {
   "cell_type": "code",
   "execution_count": 270,
   "outputs": [],
   "source": [
    "# from sklearn.model_selection import train_test_split\n",
    "# x_train, x_test, y_train, y_test = train_test_split(training_data[\"processed_tweets\"], training_data[\"label\"], test_size = 0.2, random_state = 42)"
   ],
   "metadata": {
    "collapsed": false
   }
  }
 ],
 "metadata": {
  "kernelspec": {
   "display_name": "Python 3",
   "language": "python",
   "name": "python3"
  },
  "language_info": {
   "codemirror_mode": {
    "name": "ipython",
    "version": 2
   },
   "file_extension": ".py",
   "mimetype": "text/x-python",
   "name": "python",
   "nbconvert_exporter": "python",
   "pygments_lexer": "ipython2",
   "version": "2.7.6"
  }
 },
 "nbformat": 4,
 "nbformat_minor": 0
}
